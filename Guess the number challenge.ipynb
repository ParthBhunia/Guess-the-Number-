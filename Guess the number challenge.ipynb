{
 "cells": [
  {
   "cell_type": "code",
   "execution_count": 1,
   "id": "6481631c",
   "metadata": {},
   "outputs": [],
   "source": [
    "import random"
   ]
  },
  {
   "cell_type": "code",
   "execution_count": 2,
   "id": "7fdb849b",
   "metadata": {},
   "outputs": [
    {
     "name": "stdout",
     "output_type": "stream",
     "text": [
      "Enter your name: \n",
      "Parth\n"
     ]
    }
   ],
   "source": [
    "name=input( \"Enter your name: \\n\")"
   ]
  },
  {
   "cell_type": "code",
   "execution_count": 3,
   "id": "0200682d",
   "metadata": {},
   "outputs": [
    {
     "name": "stdout",
     "output_type": "stream",
     "text": [
      "Hello  Parth\n"
     ]
    }
   ],
   "source": [
    "print(\"Hello \", name)"
   ]
  },
  {
   "cell_type": "code",
   "execution_count": 4,
   "id": "58a2b086",
   "metadata": {},
   "outputs": [
    {
     "name": "stdout",
     "output_type": "stream",
     "text": [
      "Welcome to the Guess the Number game! Guess the number between 1 and 100 in 5 attempts.\n",
      "Enter your guess: 50\n",
      "Too low. Try again.\n",
      "4 No. of guesses left\n",
      "\n",
      "Enter your guess: 80\n",
      "Too high. Try again.\n",
      "3 No. of guesses left\n",
      "\n",
      "Enter your guess: 75\n",
      "Too low. Try again.\n",
      "2 No. of guesses left\n",
      "\n",
      "Enter your guess: 79\n",
      "Too high. Try again.\n",
      "1 No. of guesses left\n",
      "\n",
      "Enter your guess: 76\n",
      "Too low. Try again.\n",
      "0 No. of guesses left\n",
      "\n",
      "Sorry, you've reached the maximum number of attempts. The secret number was 77.\n"
     ]
    }
   ],
   "source": [
    "def guess_the_number():\n",
    "    \n",
    "    min_num = 1\n",
    "    max_num = 100\n",
    "    secret_number = random.randint(min_num, max_num)\n",
    "    \n",
    "    attempts = 1\n",
    "    max_attempts = 6\n",
    "\n",
    "    print(f\"Welcome to the Guess the Number game! Guess the number between {min_num} and {max_num} in 5 attempts.\")\n",
    "\n",
    "    while attempts < max_attempts:\n",
    "        try:\n",
    "            guess = int(input(\"Enter your guess: \"))\n",
    "        except ValueError:\n",
    "            print(\"Please enter a valid number.\")\n",
    "            continue\n",
    "\n",
    "        if guess < secret_number:\n",
    "            print(\"Too low. Try again.\")\n",
    "        elif guess > secret_number:\n",
    "            print(\"Too high. Try again.\")\n",
    "        else:\n",
    "            print(f\"Congratulations! You guessed the secret number {secret_number} in {attempts} attempts.\")\n",
    "            break\n",
    "        print (5-attempts, \"No. of guesses left\\n\")\n",
    "        attempts = attempts + 1\n",
    "\n",
    "    if attempts >= max_attempts:\n",
    "        print(f\"Sorry, you've reached the maximum number of attempts. The secret number was {secret_number}.\")\n",
    "\n",
    "if __name__ == \"__main__\":\n",
    "    guess_the_number()\n"
   ]
  },
  {
   "cell_type": "code",
   "execution_count": null,
   "id": "4b665745",
   "metadata": {},
   "outputs": [],
   "source": []
  }
 ],
 "metadata": {
  "kernelspec": {
   "display_name": "Python 3 (ipykernel)",
   "language": "python",
   "name": "python3"
  },
  "language_info": {
   "codemirror_mode": {
    "name": "ipython",
    "version": 3
   },
   "file_extension": ".py",
   "mimetype": "text/x-python",
   "name": "python",
   "nbconvert_exporter": "python",
   "pygments_lexer": "ipython3",
   "version": "3.11.4"
  }
 },
 "nbformat": 4,
 "nbformat_minor": 5
}
